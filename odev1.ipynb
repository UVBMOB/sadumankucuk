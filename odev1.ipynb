{
 "cells": [
  {
   "cell_type": "code",
   "execution_count": 1,
   "metadata": {},
   "outputs": [],
   "source": [
    "import numpy as np\n",
    "import matplotlib.pyplot as plt\n",
    "from scipy import stats\n",
    "\n",
    "\n",
    "class norm_dist():\n",
    "    def __init__(self,mean,st,x):\n",
    "        self.mean=mean\n",
    "        self.st=st\n",
    "        self.x= x\n",
    "    def pdf(self):\n",
    "        val_pdf = stats.norm(self.mean,self.st).pdf(self.x)\n",
    "        print('pdf:',val_pdf)\n",
    "    def cdf(self):\n",
    "        val_cdf = stats.norm(self.mean,self.st).cdf(self.x)\n",
    "        print('cdf:',val_cdf)"
   ]
  },
  {
   "cell_type": "code",
   "execution_count": 2,
   "metadata": {},
   "outputs": [
    {
     "name": "stdout",
     "output_type": "stream",
     "text": [
      "pdf: 3.989422804014327\n",
      "cdf: 0.5\n"
     ]
    }
   ],
   "source": [
    "norm = norm_dist(0,0.1,0)\n",
    "norm.pdf()\n",
    "norm.cdf()"
   ]
  }
 ],
 "metadata": {
  "kernelspec": {
   "display_name": "Python 3",
   "language": "python",
   "name": "python3"
  },
  "language_info": {
   "codemirror_mode": {
    "name": "ipython",
    "version": 3
   },
   "file_extension": ".py",
   "mimetype": "text/x-python",
   "name": "python",
   "nbconvert_exporter": "python",
   "pygments_lexer": "ipython3",
   "version": "3.7.3"
  }
 },
 "nbformat": 4,
 "nbformat_minor": 2
}
